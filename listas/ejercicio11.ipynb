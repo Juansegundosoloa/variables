{
  "cells": [
    {
      "cell_type": "markdown",
      "metadata": {
        "id": "QcOkZZn33K6U"
      },
      "source": [
        "## Ejercicio\n",
        "\n",
        "Escribir un programa que almacene los vectores (1,2,3) y (-1,0,2) en dos tuplas y muestre por pantalla su producto escalar."
      ]
    },
    {
      "cell_type": "markdown",
      "metadata": {
        "id": "-byeZMO83K6W"
      },
      "source": [
        "## Solución"
      ]
    },
    {
      "cell_type": "code",
      "execution_count": 1,
      "metadata": {
        "id": "AfjIAhC33K6X"
      },
      "outputs": [
        {
          "name": "stdout",
          "output_type": "stream",
          "text": [
            "El producto escalar de (1, 2, 3) y (-1, 0, 2) es: 5\n"
          ]
        }
      ],
      "source": [
        "v1 = (1, 2, 3)\n",
        "v2 = (-1, 0, 2)\n",
        "producto_escalar = v1[0]*v2[0] + v1[1]*v2[1] + v1[2]*v2[2]\n",
        "print(f\"El producto escalar de {v1} y {v2} es: {producto_escalar}\")\n",
        "\n"
      ]
    }
  ],
  "metadata": {
    "colab": {
      "provenance": []
    },
    "kernelspec": {
      "display_name": "Python 3",
      "language": "python",
      "name": "python3"
    },
    "language_info": {
      "codemirror_mode": {
        "name": "ipython",
        "version": 3
      },
      "file_extension": ".py",
      "mimetype": "text/x-python",
      "name": "python",
      "nbconvert_exporter": "python",
      "pygments_lexer": "ipython3",
      "version": "3.13.6"
    }
  },
  "nbformat": 4,
  "nbformat_minor": 0
}
