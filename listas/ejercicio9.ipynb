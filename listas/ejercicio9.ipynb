{
  "cells": [
    {
      "cell_type": "markdown",
      "metadata": {
        "id": "_GCLGfIC20nS"
      },
      "source": [
        "## Ejercicio\n",
        "\n",
        "Escribir un programa que pida al usuario una palabra y muestre por pantalla el número de veces que contiene cada vocal."
      ]
    },
    {
      "cell_type": "markdown",
      "metadata": {
        "id": "4ciBAkRN20nT"
      },
      "source": [
        "## Solución"
      ]
    },
    {
      "cell_type": "code",
      "execution_count": null,
      "metadata": {
        "id": "oMSeUR_r20nU"
      },
      "outputs": [],
      "source": [
        "word = input(\"Introduce una palabra: \")\n",
        "vocals = ['a', 'e', 'i', 'o', 'u']\n"
      ]
    }
  ],
  "metadata": {
    "kernelspec": {
      "display_name": "Python 3",
      "language": "python",
      "name": "python3"
    },
    "language_info": {
      "codemirror_mode": {
        "name": "ipython",
        "version": 3
      },
      "file_extension": ".py",
      "mimetype": "text/x-python",
      "name": "python",
      "nbconvert_exporter": "python",
      "pygments_lexer": "ipython3",
      "version": "3.7.1"
    },
    "colab": {
      "provenance": []
    }
  },
  "nbformat": 4,
  "nbformat_minor": 0
}