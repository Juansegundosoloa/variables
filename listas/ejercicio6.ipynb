{
  "cells": [
    {
      "cell_type": "markdown",
      "metadata": {
        "id": "cEzbMR582OaU"
      },
      "source": [
        "## Ejercicio\n",
        "\n",
        "Escribir un programa que almacene las asignaturas de un curso (por ejemplo Matemáticas, Física, Química, Historia y Lengua) en una lista, pregunte al usuario la nota que ha sacado en cada asignatura y elimine de la lista las asignaturas aprobadas. Al final el programa debe mostrar por pantalla las asignaturas que el usuario tiene que repetir."
      ]
    },
    {
      "cell_type": "markdown",
      "metadata": {
        "id": "7bz_qk_Y2OaW"
      },
      "source": [
        "## Solución 1"
      ]
    },
    {
      "cell_type": "code",
      "execution_count": null,
      "metadata": {
        "id": "2en5hKcz2OaW"
      },
      "outputs": [
        {
          "ename": "TypeError",
          "evalue": "'<=' not supported between instances of 'str' and 'int'",
          "output_type": "error",
          "traceback": [
            "\u001b[31m---------------------------------------------------------------------------\u001b[39m",
            "\u001b[31mTypeError\u001b[39m                                 Traceback (most recent call last)",
            "\u001b[36mCell\u001b[39m\u001b[36m \u001b[39m\u001b[32mIn[3]\u001b[39m\u001b[32m, line 6\u001b[39m\n\u001b[32m      4\u001b[39m \u001b[38;5;28;01mfor\u001b[39;00m asignatura \u001b[38;5;129;01min\u001b[39;00m asignaturas:\n\u001b[32m      5\u001b[39m     nota = (\u001b[38;5;28minput\u001b[39m(\u001b[33mf\u001b[39m\u001b[33m\"\u001b[39m\u001b[33m¿Qué nota has sacado en \u001b[39m\u001b[38;5;132;01m{\u001b[39;00masignatura\u001b[38;5;132;01m}\u001b[39;00m\u001b[33m? \u001b[39m\u001b[33m\"\u001b[39m))\n\u001b[32m----> \u001b[39m\u001b[32m6\u001b[39m     \u001b[38;5;28;01mif\u001b[39;00m \u001b[43mnota\u001b[49m\u001b[43m \u001b[49m\u001b[43m<\u001b[49m\u001b[43m=\u001b[49m\u001b[43m \u001b[49m\u001b[32;43m6\u001b[39;49m:\n\u001b[32m      7\u001b[39m         repetir.append(asignatura)\n\u001b[32m      9\u001b[39m \u001b[38;5;28;01mif\u001b[39;00m repetir:\n",
            "\u001b[31mTypeError\u001b[39m: '<=' not supported between instances of 'str' and 'int'"
          ]
        }
      ],
      "source": [
        "asignaturas = [\"Matemática\", \"Física\", \"Química\", \"Historia\", \"Lengua\"]\n",
        "repetir = []\n",
        "\n",
        "for asignatura in asignaturas:\n",
        "    nota = (input(f\"¿Qué nota has sacado en {asignatura}? \"))\n",
        "    if nota < 6:\n",
        "        repetir.append(asignatura)\n",
        "\n",
        "if repetir:\n",
        "    print(\"Tienes que repetir las siguientes asignaturas:\")\n",
        "    print(\", \".join(repetir))\n",
        "else:\n",
        "    print(\"Has aprobado todas las asignaturas\")"
      ]
    },
    {
      "cell_type": "markdown",
      "metadata": {
        "id": "wQmuaOq52OaX"
      },
      "source": [
        "## Solución 2"
      ]
    },
    {
      "cell_type": "code",
      "execution_count": null,
      "metadata": {
        "id": "SEi3_nLL2OaY"
      },
      "outputs": [],
      "source": []
    }
  ],
  "metadata": {
    "colab": {
      "provenance": []
    },
    "kernelspec": {
      "display_name": "Python 3",
      "language": "python",
      "name": "python3"
    },
    "language_info": {
      "codemirror_mode": {
        "name": "ipython",
        "version": 3
      },
      "file_extension": ".py",
      "mimetype": "text/x-python",
      "name": "python",
      "nbconvert_exporter": "python",
      "pygments_lexer": "ipython3",
      "version": "3.13.6"
    }
  },
  "nbformat": 4,
  "nbformat_minor": 0
}
