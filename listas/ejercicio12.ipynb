{
  "cells": [
    {
      "cell_type": "markdown",
      "metadata": {
        "id": "NH2hKTsR3cw2"
      },
      "source": [
        "## Ejercicio\n",
        "\n",
        "Escribir un programa que almacene las matrices\n",
        "\n",
        "$$\n",
        "A = \\left(\n",
        "  \\begin{array}{rrr}\n",
        "  1 & 2 & 3\\\\\n",
        "  4 & 5 & 6\n",
        "  \\end{array}\n",
        "  \\right)\n",
        "  \\quad  y\n",
        "  \\quad\n",
        "  B = \\left(\n",
        "  \\begin{array}{rr}\n",
        "  -1 & 0\\\\\n",
        "  0 & 1\\\\\n",
        "  1 & 1\n",
        "  \\end{array}\n",
        "  \\right)\n",
        "$$\n",
        "\n",
        "en una tupla y muestre por pantalla su producto.  \n",
        "Nota: Para representar matrices mediante tuplas usar tuplas anidadas, representando cada vector fila en una tupla."
      ]
    },
    {
      "cell_type": "markdown",
      "metadata": {
        "id": "VTwI-qHW3cw4"
      },
      "source": [
        "## Solución"
      ]
    },
    {
      "cell_type": "code",
      "execution_count": 1,
      "metadata": {
        "id": "VGNNVFG_3cw5"
      },
      "outputs": [
        {
          "name": "stdout",
          "output_type": "stream",
          "text": [
            "La matriz es: ((1, 2, 3), (-1, 0, 2))\n",
            "El producto escalar es: 5\n"
          ]
        }
      ],
      "source": [
        "\n",
        "matriz = (\n",
        "    (1, 2, 3),    \n",
        "    (-1, 0, 2)     \n",
        ")\n",
        "vector1 = matriz[0]\n",
        "vector2 = matriz[1]\n",
        "producto_escalar = sum(vector1[i] * vector2[i] for i in range(len(vector1)))\n",
        "print(\"La matriz es:\", matriz)\n",
        "print(\"El producto escalar es:\", producto_escalar)\n",
        "\n"
      ]
    }
  ],
  "metadata": {
    "colab": {
      "provenance": []
    },
    "kernelspec": {
      "display_name": "Python 3",
      "language": "python",
      "name": "python3"
    },
    "language_info": {
      "codemirror_mode": {
        "name": "ipython",
        "version": 3
      },
      "file_extension": ".py",
      "mimetype": "text/x-python",
      "name": "python",
      "nbconvert_exporter": "python",
      "pygments_lexer": "ipython3",
      "version": "3.13.6"
    }
  },
  "nbformat": 4,
  "nbformat_minor": 0
}
