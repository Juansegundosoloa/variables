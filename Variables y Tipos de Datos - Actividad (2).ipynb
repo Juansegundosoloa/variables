{
 "cells": [
  {
   "attachments": {},
   "cell_type": "markdown",
   "metadata": {},
   "source": [
    "## Variables y Tipos de Datos"
   ]
  },
  {
   "attachments": {},
   "cell_type": "markdown",
   "metadata": {},
   "source": [
    "1) Crear una variable que contenga un elemento del conjunto de números enteros y luego imprimir por pantalla"
   ]
  },
  {
   "cell_type": "code",
   "execution_count": null,
   "metadata": {},
   "outputs": [
    {
     "name": "stdout",
     "output_type": "stream",
     "text": [
      "15\n"
     ]
    }
   ],
   "source": [
    "a=15\n",
    "print(a)"
   ]
  },
  {
   "attachments": {},
   "cell_type": "markdown",
   "metadata": {},
   "source": [
    "2) Imprimir el tipo de dato de la variable 8.5"
   ]
  },
  {
   "cell_type": "code",
   "execution_count": null,
   "metadata": {},
   "outputs": [
    {
     "name": "stdout",
     "output_type": "stream",
     "text": [
      "8.5\n"
     ]
    }
   ],
   "source": [
    "x= 17\n",
    "z=2\n",
    "print (float(x/z))"
   ]
  },
  {
   "attachments": {},
   "cell_type": "markdown",
   "metadata": {},
   "source": [
    "3) Imprimir el tipo de dato de la variable creada en el punto 1"
   ]
  },
  {
   "cell_type": "code",
   "execution_count": null,
   "metadata": {},
   "outputs": [
    {
     "name": "stdout",
     "output_type": "stream",
     "text": [
      "<class 'int'>\n"
     ]
    }
   ],
   "source": [
    "a=15\n",
    "print(type(a))"
   ]
  },
  {
   "attachments": {},
   "cell_type": "markdown",
   "metadata": {},
   "source": [
    "4) Crear una variable que contenga tu nombre"
   ]
  },
  {
   "cell_type": "code",
   "execution_count": null,
   "metadata": {},
   "outputs": [
    {
     "name": "stdout",
     "output_type": "stream",
     "text": [
      "Juanse\n"
     ]
    }
   ],
   "source": [
    "nombre=\"Juanse\"\n",
    "print(nombre)"
   ]
  },
  {
   "attachments": {},
   "cell_type": "markdown",
   "metadata": {},
   "source": [
    "5) Crear una constante que contenga el número Pi"
   ]
  },
  {
   "cell_type": "code",
   "execution_count": null,
   "metadata": {},
   "outputs": [
    {
     "name": "stdout",
     "output_type": "stream",
     "text": [
      "3.141592653589793\n"
     ]
    }
   ],
   "source": [
    "import math\n",
    "pi= math.pi\n",
    "print(pi)"
   ]
  },
  {
   "attachments": {},
   "cell_type": "markdown",
   "metadata": {},
   "source": [
    "6) Mostrar el tipo de dato de la variable creada en el punto 5"
   ]
  },
  {
   "cell_type": "code",
   "execution_count": null,
   "metadata": {},
   "outputs": [
    {
     "name": "stdout",
     "output_type": "stream",
     "text": [
      "<class 'float'>\n"
     ]
    }
   ],
   "source": [
    "import math\n",
    "pi= math.pi\n",
    "print (type(pi))"
   ]
  },
  {
   "attachments": {},
   "cell_type": "markdown",
   "metadata": {},
   "source": [
    "7) Crear una variable que contenga el valor del número **e** (número de euler) redondeado a 4 decimales"
   ]
  },
  {
   "cell_type": "code",
   "execution_count": null,
   "metadata": {},
   "outputs": [
    {
     "name": "stdout",
     "output_type": "stream",
     "text": [
      "2.718281828459045\n"
     ]
    }
   ],
   "source": [
    "import math\n",
    "euler= math.e\n",
    "print(euler)"
   ]
  },
  {
   "attachments": {},
   "cell_type": "markdown",
   "metadata": {},
   "source": [
    "8) Crear una variable que contenga el valor 'True' y otra que contenga el valor True. ¿Se trata de lo mismo?"
   ]
  },
  {
   "cell_type": "code",
   "execution_count": null,
   "metadata": {},
   "outputs": [
    {
     "name": "stdout",
     "output_type": "stream",
     "text": [
      "True True\n"
     ]
    }
   ],
   "source": [
    "t=\"True\"\n",
    "T=True\n",
    "print (t,T)"
   ]
  },
  {
   "attachments": {},
   "cell_type": "markdown",
   "metadata": {},
   "source": [
    "9) Imprimir el tipo de dato correspondientes a las variables creadas en el punto 8"
   ]
  },
  {
   "cell_type": "code",
   "execution_count": null,
   "metadata": {},
   "outputs": [
    {
     "name": "stdout",
     "output_type": "stream",
     "text": [
      "<class 'str'>\n",
      "<class 'bool'>\n"
     ]
    }
   ],
   "source": [
    "t=\"True\"\n",
    "T=True\n",
    "print(type(t))\n",
    "print(type(T))"
   ]
  },
  {
   "attachments": {},
   "cell_type": "markdown",
   "metadata": {},
   "source": [
    "10) Asignar a una variable, la suma de un número entero y otro flotante"
   ]
  },
  {
   "cell_type": "code",
   "execution_count": null,
   "metadata": {},
   "outputs": [
    {
     "name": "stdout",
     "output_type": "stream",
     "text": [
      "18.5\n"
     ]
    }
   ],
   "source": [
    "a=5+13.5\n",
    "print(a)"
   ]
  },
  {
   "attachments": {},
   "cell_type": "markdown",
   "metadata": {},
   "source": [
    "11) Realizar una operación de suma de un número definido como string con un entero"
   ]
  },
  {
   "cell_type": "code",
   "execution_count": null,
   "metadata": {},
   "outputs": [
    {
     "name": "stdout",
     "output_type": "stream",
     "text": [
      "128\n"
     ]
    }
   ],
   "source": [
    "a= \"123\"\n",
    "b=5\n",
    "print(int(a)+b)"
   ]
  },
  {
   "attachments": {},
   "cell_type": "markdown",
   "metadata": {},
   "source": [
    "12) Crear una variable que contenga el valor del punto 7 elevado al cubo (potencia de 3)"
   ]
  },
  {
   "cell_type": "code",
   "execution_count": null,
   "metadata": {},
   "outputs": [
    {
     "name": "stdout",
     "output_type": "stream",
     "text": [
      "20.085536923187664\n"
     ]
    }
   ],
   "source": [
    "import math\n",
    "base=math.e\n",
    "exponente=3\n",
    "print(base**exponente)"
   ]
  },
  {
   "attachments": {},
   "cell_type": "markdown",
   "metadata": {},
   "source": [
    "13) Pedir al usuario que ingrese un número por teclado y realizar una operación de multiplicación"
   ]
  },
  {
   "cell_type": "code",
   "execution_count": 34,
   "metadata": {},
   "outputs": [
    {
     "name": "stdout",
     "output_type": "stream",
     "text": [
      "\n"
     ]
    }
   ],
   "source": [
    "numero=(input(\"ingresar numero por teclado\"))\n",
    "resultado=B*5\n",
    "print(resultado)"
   ]
  },
  {
   "attachments": {},
   "cell_type": "markdown",
   "metadata": {},
   "source": [
    "14) Obtener el cociente de la división de 27 entre 4 en una variable y luego mostrarla"
   ]
  },
  {
   "cell_type": "code",
   "execution_count": 35,
   "metadata": {},
   "outputs": [
    {
     "name": "stdout",
     "output_type": "stream",
     "text": [
      "6.75\n"
     ]
    }
   ],
   "source": [
    "numero=27\n",
    "numero2=4\n",
    "print(numero/numero2)"
   ]
  },
  {
   "attachments": {},
   "cell_type": "markdown",
   "metadata": {},
   "source": [
    "15) De la división anterior solamente mostrar la parte entera"
   ]
  },
  {
   "cell_type": "code",
   "execution_count": 36,
   "metadata": {},
   "outputs": [
    {
     "name": "stdout",
     "output_type": "stream",
     "text": [
      "6\n"
     ]
    }
   ],
   "source": [
    "numero=27\n",
    "numero2=4\n",
    "print(numero//numero2)"
   ]
  },
  {
   "attachments": {},
   "cell_type": "markdown",
   "metadata": {},
   "source": [
    "16) De la división de 27 entre 4 mostrar solamente el resto"
   ]
  },
  {
   "cell_type": "code",
   "execution_count": 37,
   "metadata": {},
   "outputs": [
    {
     "name": "stdout",
     "output_type": "stream",
     "text": [
      "3\n"
     ]
    }
   ],
   "source": [
    "numero=27\n",
    "numero2=4\n",
    "print(numero%numero2)"
   ]
  },
  {
   "attachments": {},
   "cell_type": "markdown",
   "metadata": {},
   "source": [
    "17) Utilizando como operandos el número 4 y los resultados obtenidos en los puntos 15 y 16, obtener 27 como resultado"
   ]
  },
  {
   "cell_type": "code",
   "execution_count": 38,
   "metadata": {},
   "outputs": [
    {
     "name": "stdout",
     "output_type": "stream",
     "text": [
      "27\n"
     ]
    }
   ],
   "source": [
    "numero=4\n",
    "numero2=6\n",
    "numero3=3\n",
    "print(numero*numero2+numero3)"
   ]
  },
  {
   "attachments": {},
   "cell_type": "markdown",
   "metadata": {},
   "source": [
    "18) Evaluar si \"2\" es igual a 2. ¿Por qué ocurre eso?"
   ]
  },
  {
   "cell_type": "code",
   "execution_count": 39,
   "metadata": {},
   "outputs": [
    {
     "name": "stdout",
     "output_type": "stream",
     "text": [
      "2 2\n"
     ]
    }
   ],
   "source": [
    "dos=\"2\"\n",
    "DOS=2\n",
    "print(dos,DOS)"
   ]
  },
  {
   "attachments": {},
   "cell_type": "markdown",
   "metadata": {},
   "source": [
    "19) Utilizar las funciones de cambio de tipo de dato, para que la validación del punto 18 resulte verdadera"
   ]
  },
  {
   "cell_type": "code",
   "execution_count": 62,
   "metadata": {},
   "outputs": [
    {
     "name": "stdout",
     "output_type": "stream",
     "text": [
      "2 2\n"
     ]
    }
   ],
   "source": [
    "dos=int(\"2\") \n",
    "DOS=2\n",
    "print(dos,DOS)\n",
    "    "
   ]
  },
  {
   "attachments": {},
   "cell_type": "markdown",
   "metadata": {},
   "source": [
    "20) ¿Por qué arroja error el siguiente cambio de tipo de datos? a = float('3,8')"
   ]
  },
  {
   "cell_type": "code",
   "execution_count": 63,
   "metadata": {},
   "outputs": [
    {
     "name": "stdout",
     "output_type": "stream",
     "text": [
      "3.8\n"
     ]
    }
   ],
   "source": [
    "a=float('3.8')\n",
    "print(a)"
   ]
  },
  {
   "attachments": {},
   "cell_type": "markdown",
   "metadata": {},
   "source": [
    "21) Realizar la operación 10 + '10' ¿Por qué no está permitido? ¿Si los dos operandos fueran del mismo tipo, siempre arrojaría el mismo resultado?"
   ]
  },
  {
   "cell_type": "code",
   "execution_count": 64,
   "metadata": {},
   "outputs": [
    {
     "name": "stdout",
     "output_type": "stream",
     "text": [
      "20\n"
     ]
    }
   ],
   "source": [
    "numero=10\n",
    "numero2=int(\"10\")\n",
    "print(numero+numero2)"
   ]
  },
  {
   "cell_type": "markdown",
   "metadata": {},
   "source": [
    "22) Crear una variable que contenga un menú con los elementos MENU: 1 - Pizza, 2 - Empanadas, 3 - Milanesas, 4 - Salir, y luego mostrarlo por pantalla"
   ]
  },
  {
   "cell_type": "code",
   "execution_count": 65,
   "metadata": {},
   "outputs": [
    {
     "name": "stdout",
     "output_type": "stream",
     "text": [
      "\"\n",
      "MENU\n",
      "1)PIZZA  2)EMPANADA\n",
      "3)MILANESAS   4)SALIR\n",
      "\n"
     ]
    }
   ],
   "source": [
    "menu=\"\"\"\"\n",
    "MENU\n",
    "1)PIZZA  2)EMPANADA\n",
    "3)MILANESAS   4)SALIR\n",
    "\"\"\"\n",
    "print(menu)\n"
   ]
  },
  {
   "cell_type": "markdown",
   "metadata": {},
   "source": [
    "23) Crear una lista que contenga los números del 1 al 10"
   ]
  },
  {
   "cell_type": "code",
   "execution_count": 66,
   "metadata": {},
   "outputs": [
    {
     "name": "stdout",
     "output_type": "stream",
     "text": [
      "\"\n",
      "a)1 \n",
      "b)2\n",
      "c)3\n",
      "d)4\n",
      "e)5\n",
      "f)6\n",
      "g)7\n",
      "h)8\n",
      "i)9\n",
      "j)10\n",
      "\n"
     ]
    }
   ],
   "source": [
    "Lista=\"\"\"\"\n",
    "a)1 \n",
    "b)2\n",
    "c)3\n",
    "d)4\n",
    "e)5\n",
    "f)6\n",
    "g)7\n",
    "h)8\n",
    "i)9\n",
    "j)10\n",
    "\"\"\"\n",
    "print(Lista)"
   ]
  },
  {
   "cell_type": "markdown",
   "metadata": {},
   "source": [
    "24) Imprimir el penultimo elemento de la lista creada en el punto 23"
   ]
  },
  {
   "cell_type": "code",
   "execution_count": null,
   "metadata": {},
   "outputs": [],
   "source": []
  },
  {
   "cell_type": "markdown",
   "metadata": {},
   "source": [
    "25) Modificar el tercer elemento de la lista creada en el punto 23 poniendo tu nombre"
   ]
  },
  {
   "cell_type": "code",
   "execution_count": 67,
   "metadata": {},
   "outputs": [
    {
     "name": "stdout",
     "output_type": "stream",
     "text": [
      "\n",
      "a)1\n",
      "b)2\n",
      "juanse\n",
      "4\n",
      "5\n",
      "6\n",
      "7\n",
      "8\n",
      "9\n",
      "10\n",
      "\n"
     ]
    }
   ],
   "source": [
    "Lista=\"\"\"\n",
    "a)1\n",
    "b)2\n",
    "juanse\n",
    "4\n",
    "5\n",
    "6\n",
    "7\n",
    "8\n",
    "9\n",
    "10\n",
    "\"\"\"\n",
    "print(Lista)"
   ]
  },
  {
   "cell_type": "markdown",
   "metadata": {},
   "source": [
    "26) Construir una matriz de 3x3 que contenga las letras A, B, C, D, E, F, G, H, I"
   ]
  },
  {
   "cell_type": "code",
   "execution_count": 12,
   "metadata": {},
   "outputs": [
    {
     "name": "stdout",
     "output_type": "stream",
     "text": [
      "[['A,B,C'], ['D,E,F'], ['G,H,I']]\n"
     ]
    }
   ],
   "source": [
    "matriz=[\n",
    "    [\"A,B,C\"],\n",
    "    [\"D,E,F\"],\n",
    "    [\"G,H,I\"]]\n",
    "    \n",
    "\n",
    "print(matriz)"
   ]
  },
  {
   "cell_type": "markdown",
   "metadata": {},
   "source": [
    "27) Imprimir la matriz creada en el punto 26"
   ]
  },
  {
   "cell_type": "code",
   "execution_count": 13,
   "metadata": {},
   "outputs": [
    {
     "name": "stdout",
     "output_type": "stream",
     "text": [
      "[['A,B,C'], ['D,E,F'], ['G,H,I']]\n"
     ]
    }
   ],
   "source": [
    "matriz=[\n",
    "    [\"A,B,C\"],\n",
    "    [\"D,E,F\"],\n",
    "    [\"G,H,I\"]]\n",
    "    \n",
    "\n",
    "print(matriz)"
   ]
  },
  {
   "cell_type": "markdown",
   "metadata": {},
   "source": [
    "28) Modificar la letra E de la matriz y colocar la letra Z"
   ]
  },
  {
   "cell_type": "code",
   "execution_count": 14,
   "metadata": {},
   "outputs": [
    {
     "name": "stdout",
     "output_type": "stream",
     "text": [
      "[['A,B,C'], ['D,Z,F'], ['G,H,I']]\n"
     ]
    }
   ],
   "source": [
    "matriz=[\n",
    "    [\"A,B,C\"],\n",
    "    [\"D,Z,F\"],\n",
    "    [\"G,H,I\"]]\n",
    "    \n",
    "\n",
    "print(matriz)"
   ]
  },
  {
   "cell_type": "markdown",
   "metadata": {},
   "source": [
    "29) Cambiar las primeras 3 letras de la matriz por los números 1, 2 y 3"
   ]
  },
  {
   "cell_type": "code",
   "execution_count": 15,
   "metadata": {},
   "outputs": [
    {
     "name": "stdout",
     "output_type": "stream",
     "text": [
      "[[1, 2, 3], ['D,Z,F'], ['G,H,I']]\n"
     ]
    }
   ],
   "source": [
    "matriz=[\n",
    "    [1,2,3],\n",
    "    [\"D,Z,F\"],\n",
    "    [\"G,H,I\"]]\n",
    "    \n",
    "\n",
    "print(matriz)"
   ]
  },
  {
   "cell_type": "markdown",
   "metadata": {},
   "source": [
    "30) Crear una tupla que contenga 5 marcas de ropa"
   ]
  },
  {
   "cell_type": "code",
   "execution_count": 16,
   "metadata": {},
   "outputs": [],
   "source": [
    "mitupla=(\"Adidas,NIKE,Puma,Topper,Gregoris\")"
   ]
  },
  {
   "cell_type": "markdown",
   "metadata": {},
   "source": [
    "31) Imprimir el primer elemento de la tupla creada en el punto 30"
   ]
  },
  {
   "cell_type": "code",
   "execution_count": 22,
   "metadata": {},
   "outputs": [
    {
     "name": "stdout",
     "output_type": "stream",
     "text": [
      "Adidas\n"
     ]
    }
   ],
   "source": [
    "mitupla=(\"Adidas\",\"NIKE\",\"Puma\",\"Topper\",\"Gregoris\")\n",
    "print(mitupla[0])"
   ]
  },
  {
   "cell_type": "markdown",
   "metadata": {},
   "source": [
    "32) Intenta modificar el segundo elemento de la tupla. ¿Por qué no se puede?"
   ]
  },
  {
   "cell_type": "code",
   "execution_count": 23,
   "metadata": {},
   "outputs": [
    {
     "name": "stdout",
     "output_type": "stream",
     "text": [
      "las,tuplas,no,se,pueden,modificar,por,que,son,inmutables\n"
     ]
    }
   ],
   "source": [
    "mitupla=(\"las,tuplas,no,se,pueden,modificar,por,que,son,inmutables\")\n",
    "print(mitupla)"
   ]
  },
  {
   "cell_type": "markdown",
   "metadata": {},
   "source": [
    "33) Crear un diccionario que contenga las claves 'nombre', 'apellido', 'edad' y 'hobbies' y asignarle los valores correspondientes (los hobbies deben ser una lista con al menos 3 elementos)"
   ]
  },
  {
   "cell_type": "code",
   "execution_count": 26,
   "metadata": {},
   "outputs": [],
   "source": [
    "persona={\n",
    "    \"nombre\":\"juan\",\n",
    "    \"Apellido\":\"soloa\"\n",
    "    \"edad:\" \"29\",\n",
    "    \"hobbies\":\"Futbol,gimnasio,juegos de PC\"\n",
    "    \n",
    "}"
   ]
  },
  {
   "cell_type": "markdown",
   "metadata": {},
   "source": [
    "34) Imprimir el valor de la clave 'hobbies' del diccionario creado en el punto anterior"
   ]
  },
  {
   "cell_type": "code",
   "execution_count": 27,
   "metadata": {},
   "outputs": [
    {
     "name": "stdout",
     "output_type": "stream",
     "text": [
      "Futbol,gimnasio,juegos de PC\n"
     ]
    }
   ],
   "source": [
    "persona={\n",
    "    \"nombre\":\"juan\",\n",
    "    \"Apellido\":\"soloa\"\n",
    "    \"edad:\" \"29\",\n",
    "    \"hobbies\":\"Futbol,gimnasio,juegos de PC\"\n",
    "    }\n",
    "print(persona[\"hobbies\"])"
   ]
  },
  {
   "cell_type": "markdown",
   "metadata": {},
   "source": [
    "35) Modificar el valor de la clave 'edad' del diccionario y mostrarlo por pantalla"
   ]
  },
  {
   "cell_type": "code",
   "execution_count": 32,
   "metadata": {},
   "outputs": [
    {
     "name": "stdout",
     "output_type": "stream",
     "text": [
      "{'nombre': 'juan', 'Apellido': 'soloa', 'edad': '27', 'hobbies': 'Futbol,gimnasio,juegos de PC'}\n"
     ]
    }
   ],
   "source": [
    "persona={\n",
    "    \"nombre\":\"juan\",\n",
    "    \"Apellido\":\"soloa\",\n",
    "    \"edad\": \"29\",\n",
    "    \"hobbies\":\"Futbol,gimnasio,juegos de PC\"\n",
    "   \n",
    "    }\n",
    "persona[\"edad\"] =\"27\"\n",
    "    \n",
    "print(persona)"
   ]
  }
 ],
 "metadata": {
  "kernelspec": {
   "display_name": "Python 3",
   "language": "python",
   "name": "python3"
  },
  "language_info": {
   "codemirror_mode": {
    "name": "ipython",
    "version": 3
   },
   "file_extension": ".py",
   "mimetype": "text/x-python",
   "name": "python",
   "nbconvert_exporter": "python",
   "pygments_lexer": "ipython3",
   "version": "3.13.6"
  }
 },
 "nbformat": 4,
 "nbformat_minor": 4
}
